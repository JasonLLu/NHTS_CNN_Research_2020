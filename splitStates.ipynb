{
 "cells": [
  {
   "cell_type": "code",
   "execution_count": 1,
   "metadata": {},
   "outputs": [],
   "source": [
    "import pandas as pd\n",
    "import numpy as np\n"
   ]
  },
  {
   "cell_type": "code",
   "execution_count": 4,
   "metadata": {},
   "outputs": [],
   "source": [
    "df_nhts = pd.read_csv(\"data/data_input_V1.csv\")\n",
    "df_loc = pd.read_csv(\"data/hhct.csv\")"
   ]
  },
  {
   "cell_type": "code",
   "execution_count": 5,
   "metadata": {},
   "outputs": [],
   "source": [
    "df_loc.drop('HHSTFIPS', axis = 1, inplace = True)"
   ]
  },
  {
   "cell_type": "code",
   "execution_count": 6,
   "metadata": {},
   "outputs": [
    {
     "name": "stderr",
     "output_type": "stream",
     "text": [
      "/home/jtl/anaconda3/lib/python3.7/site-packages/pandas/core/indexing.py:205: SettingWithCopyWarning: \n",
      "A value is trying to be set on a copy of a slice from a DataFrame\n",
      "\n",
      "See the caveats in the documentation: http://pandas.pydata.org/pandas-docs/stable/user_guide/indexing.html#returning-a-view-versus-a-copy\n",
      "  self._setitem_with_indexer(indexer, value)\n"
     ]
    }
   ],
   "source": [
    "\n",
    "\n",
    "# augment HHCT to df_nhts\n",
    "df = pd.merge(df_nhts, df_loc, on = 'HOUSEID')\n",
    "\n",
    "### combine the columns to create an identifier to match the folder names.\n",
    "# HHSTFIPS: 2 digits; HHCNTYFP: 3 digits; HHCT: 6 digits. add zeros.\n",
    "# turn to strings\n",
    "df['HHSTFIPS'] = df['HHSTFIPS'].astype(np.str)\n",
    "df['HHCNTYFP'] = df['HHCNTYFP'].astype(np.str)\n",
    "df['HHCT'] = df['HHCT'].astype(np.str)\n",
    "# HHSTFIPS\n",
    "df['HHSTFIPS'].loc[df['HHSTFIPS'].str.len() == 1, ] = '0' + df['HHSTFIPS'].loc[df['HHSTFIPS'].str.len() == 1, ]\n",
    "# HHCNTYFP\n",
    "for i in range(2): # 2 = 3-1\n",
    "    augmented_zero_str = '0' * (i+1)\n",
    "    df['HHCNTYFP'].loc[df['HHCNTYFP'].str.len() == 2-i, ] = augmented_zero_str + df['HHCNTYFP'].loc[df['HHCNTYFP'].str.len() == 2-i, ]\n",
    "# HHCT\n",
    "for i in range(5): # 5 = 6-1\n",
    "    augmented_zero_str = '0' * (i+1)\n",
    "    df['HHCT'].loc[df['HHCT'].str.len() == 5-i, ] = augmented_zero_str + df['HHCT'].loc[df['HHCT'].str.len() == 5-i, ]\n",
    "# Create the census tract identifier\n",
    "df['CENSUS_ID'] = df['HHSTFIPS'] + df['HHCNTYFP'] + df['HHCT']\n",
    "\n"
   ]
  },
  {
   "cell_type": "code",
   "execution_count": 7,
   "metadata": {},
   "outputs": [],
   "source": [
    "states = df['HHSTATE'].unique().tolist()"
   ]
  },
  {
   "cell_type": "code",
   "execution_count": 8,
   "metadata": {},
   "outputs": [],
   "source": [
    "list_data = df.groupby(['HHSTATE'])"
   ]
  },
  {
   "cell_type": "code",
   "execution_count": 9,
   "metadata": {},
   "outputs": [],
   "source": [
    "CA = df.loc[df.HHSTATE=='CA']"
   ]
  },
  {
   "cell_type": "code",
   "execution_count": 10,
   "metadata": {},
   "outputs": [
    {
     "data": {
      "text/plain": [
       "['NC',\n",
       " 'WI',\n",
       " 'NY',\n",
       " 'MD',\n",
       " 'PA',\n",
       " 'CA',\n",
       " 'TX',\n",
       " 'AZ',\n",
       " 'WA',\n",
       " 'IL',\n",
       " 'KY',\n",
       " 'MT',\n",
       " 'IA',\n",
       " 'GA',\n",
       " 'ME',\n",
       " 'VA',\n",
       " 'SC',\n",
       " 'WV',\n",
       " 'FL',\n",
       " 'NH',\n",
       " 'MN',\n",
       " 'NE',\n",
       " 'AR',\n",
       " 'NJ',\n",
       " 'SD',\n",
       " 'NM',\n",
       " 'OK',\n",
       " 'MI',\n",
       " 'VT',\n",
       " 'ID',\n",
       " 'DE',\n",
       " 'MA',\n",
       " 'WY',\n",
       " 'CO',\n",
       " 'IN',\n",
       " 'AL',\n",
       " 'TN',\n",
       " 'HI',\n",
       " 'AK',\n",
       " 'OH',\n",
       " 'RI',\n",
       " 'LA',\n",
       " 'OR',\n",
       " 'KS',\n",
       " 'UT',\n",
       " 'MO',\n",
       " 'DC',\n",
       " 'NV',\n",
       " 'ND',\n",
       " 'MS',\n",
       " 'CT']"
      ]
     },
     "execution_count": 10,
     "metadata": {},
     "output_type": "execute_result"
    }
   ],
   "source": [
    "states"
   ]
  },
  {
   "cell_type": "code",
   "execution_count": 11,
   "metadata": {},
   "outputs": [],
   "source": [
    "statesToData = {}\n",
    "for state in states:\n",
    "    statesToData[state] = df.loc[df.HHSTATE==state]"
   ]
  },
  {
   "cell_type": "code",
   "execution_count": 13,
   "metadata": {},
   "outputs": [],
   "source": [
    "import pickle\n",
    "\n",
    "with open('statesToDataORIGINAL.pickle', 'wb') as handle:\n",
    "    pickle.dump(statesToData, handle, protocol=pickle.HIGHEST_PROTOCOL)"
   ]
  },
  {
   "cell_type": "code",
   "execution_count": null,
   "metadata": {},
   "outputs": [],
   "source": []
  }
 ],
 "metadata": {
  "kernelspec": {
   "display_name": "Python 3",
   "language": "python",
   "name": "python3"
  },
  "language_info": {
   "codemirror_mode": {
    "name": "ipython",
    "version": 3
   },
   "file_extension": ".py",
   "mimetype": "text/x-python",
   "name": "python",
   "nbconvert_exporter": "python",
   "pygments_lexer": "ipython3",
   "version": "3.7.4"
  }
 },
 "nbformat": 4,
 "nbformat_minor": 2
}

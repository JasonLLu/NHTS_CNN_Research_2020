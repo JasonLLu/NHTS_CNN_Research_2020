{
 "cells": [
  {
   "cell_type": "code",
   "execution_count": 1,
   "metadata": {},
   "outputs": [],
   "source": [
    "import torch\n",
    "import torch.nn as nn\n",
    "import torch.nn.functional as F\n",
    "import torchvision\n",
    "import numpy as np\n",
    "import pandas as pd\n",
    "from matplotlib import pyplot as plt"
   ]
  },
  {
   "cell_type": "code",
   "execution_count": 2,
   "metadata": {},
   "outputs": [
    {
     "name": "stdout",
     "output_type": "stream",
     "text": [
      "Using the GPU!\n"
     ]
    }
   ],
   "source": [
    "# Detect if we have a GPU available\n",
    "device = torch.device(\"cuda:0\" if torch.cuda.is_available() else \"cpu\")\n",
    "if torch.cuda.is_available():\n",
    "    print(\"Using the GPU!\")\n",
    "else:\n",
    "    print(\"WARNING: Could not find GPU! Using CPU only\")"
   ]
  },
  {
   "cell_type": "code",
   "execution_count": 3,
   "metadata": {},
   "outputs": [
    {
     "name": "stdout",
     "output_type": "stream",
     "text": [
      "The sample size of training set is:  100000\n",
      "The sample size of testing set is:  10000\n"
     ]
    }
   ],
   "source": [
    "x_train_nhts = np.load(\"x_train100k.npy\")[:,1:]\n",
    "x_test_nhts = np.load(\"x_test100k.npy\")[:,1:]\n",
    "\n",
    "y_train = np.load(\"y_train_hhvehcnt100k.npy\")\n",
    "y_test = np.load(\"y_test_hhvehcnt100k.npy\")\n",
    "print(\"The sample size of training set is: \", x_train_nhts.shape[0])\n",
    "print(\"The sample size of testing set is: \", x_test_nhts.shape[0])"
   ]
  },
  {
   "cell_type": "code",
   "execution_count": 4,
   "metadata": {
    "scrolled": true
   },
   "outputs": [
    {
     "name": "stdout",
     "output_type": "stream",
     "text": [
      "(100000, 87)\n",
      "(100000, 1)\n",
      "[0.         0.         1.         0.         0.22222222 0.\n",
      " 0.         0.         0.         1.         0.         0.\n",
      " 0.         0.         1.         0.         0.         0.\n",
      " 0.         0.         0.         0.         0.         1.\n",
      " 0.         0.         0.         0.         0.         1.\n",
      " 0.         0.         0.         0.         1.         0.\n",
      " 0.         0.         0.         0.         0.         0.\n",
      " 0.         0.         0.         0.         0.         0.\n",
      " 0.         0.         1.         0.         0.         0.08333334\n",
      " 1.         0.         0.         0.         0.         0.\n",
      " 0.         0.         1.         0.         0.         0.\n",
      " 1.         0.         0.         0.         0.         0.\n",
      " 0.         0.         0.         0.         1.         0.\n",
      " 0.         1.         0.38999999 0.         1.         1.\n",
      " 0.         0.         0.        ]\n",
      "[2]\n"
     ]
    }
   ],
   "source": [
    "print(x_train_nhts.shape)\n",
    "print(y_train.shape)\n",
    "print(x_train_nhts[0])\n",
    "print(y_train[0])"
   ]
  },
  {
   "cell_type": "code",
   "execution_count": 5,
   "metadata": {},
   "outputs": [
    {
     "name": "stdout",
     "output_type": "stream",
     "text": [
      "Number of alternatives:  4\n",
      "Number of input dimensions:  87\n",
      "Share of vehicle counts: \n",
      "2    0.42704\n",
      "3    0.31662\n",
      "1    0.23113\n",
      "0    0.02521\n",
      "dtype: float64\n"
     ]
    }
   ],
   "source": [
    "# bridge numpy to torch\n",
    "x_train_nhts_torch = torch.as_tensor(x_train_nhts).float() # specify floats for the inputs\n",
    "x_test_nhts_torch = torch.as_tensor(x_test_nhts).float()\n",
    "y_train_torch = torch.as_tensor(y_train[:,0])\n",
    "y_test_torch = torch.as_tensor(y_test[:,0])\n",
    "n_train = x_train_nhts.shape[0]\n",
    "n_test = x_test_nhts.shape[0]\n",
    "# inputs: x_train_nhts, x_train_images, x_test_nhts, x_test_images, y_train, and y_test; \n",
    "K = len(np.unique(y_train))\n",
    "print(\"Number of alternatives: \", K)\n",
    "x_dim = x_train_nhts.shape[1]\n",
    "print(\"Number of input dimensions: \", x_dim)\n",
    "print(\"Share of vehicle counts: \")\n",
    "print(pd.value_counts(y_train[:,0])/y_train.shape[0])"
   ]
  },
  {
   "cell_type": "code",
   "execution_count": 6,
   "metadata": {},
   "outputs": [],
   "source": [
    "# Type 1: with only NHTS dataset.\n",
    "class NN(nn.Module):  # subclass nn.Module\n",
    "    def __init__(self):\n",
    "        super(NN, self).__init__()\n",
    "        self.fc1 = nn.Linear(x_dim, 128)\n",
    "        self.fc2 = nn.Linear(128, 128)\n",
    "        self.fc3 = nn.Linear(128, K)\n",
    "        self.softmax = nn.Softmax(dim=1)\n",
    "    def forward(self, x):\n",
    "        x = self.fc1(x)\n",
    "        x = x.relu()\n",
    "        x = self.fc2(x)\n",
    "        x = x.relu()\n",
    "        x = self.fc3(x)\n",
    "        x = self.softmax(x)\n",
    "        return x"
   ]
  },
  {
   "cell_type": "code",
   "execution_count": 7,
   "metadata": {},
   "outputs": [
    {
     "name": "stdout",
     "output_type": "stream",
     "text": [
      "<class '__main__.NN'>\n"
     ]
    }
   ],
   "source": [
    "net = NN().float().to(device)\n",
    "print(type(net))\n",
    "optim = torch.optim.Adam(net.parameters(), lr=0.0001)\n",
    "criterion = nn.CrossEntropyLoss()\n",
    "# \n",
    "n_epoches = 500 # so many?\n",
    "batch_size = 500"
   ]
  },
  {
   "cell_type": "code",
   "execution_count": 8,
   "metadata": {},
   "outputs": [
    {
     "name": "stdout",
     "output_type": "stream",
     "text": [
      "Epoch 0: train loss: 1.289749264717102; test loss: 1.2772390842437744\n",
      "Epoch 0: train accuracy: 0.42704; test accuracy: 0.4263\n",
      "Epoch 5: train loss: 1.1160308122634888; test loss: 1.1143882274627686\n",
      "Epoch 5: train accuracy: 0.62408; test accuracy: 0.62\n",
      "Epoch 10: train loss: 1.082170844078064; test loss: 1.100286841392517\n",
      "Epoch 10: train accuracy: 0.64454; test accuracy: 0.6377\n",
      "Epoch 15: train loss: 1.0724161863327026; test loss: 1.0864523649215698\n",
      "Epoch 15: train accuracy: 0.65991; test accuracy: 0.6521\n",
      "Epoch 20: train loss: 1.116331934928894; test loss: 1.0764919519424438\n",
      "Epoch 20: train accuracy: 0.66792; test accuracy: 0.6616\n",
      "Epoch 25: train loss: 1.033430576324463; test loss: 1.0732389688491821\n",
      "Epoch 25: train accuracy: 0.67228; test accuracy: 0.6628\n",
      "Epoch 30: train loss: 1.0897657871246338; test loss: 1.0674303770065308\n",
      "Epoch 30: train accuracy: 0.67724; test accuracy: 0.671\n",
      "Epoch 35: train loss: 1.0215288400650024; test loss: 1.0629010200500488\n",
      "Epoch 35: train accuracy: 0.68071; test accuracy: 0.6754\n",
      "Epoch 40: train loss: 1.0506702661514282; test loss: 1.0634409189224243\n",
      "Epoch 40: train accuracy: 0.6821; test accuracy: 0.675\n",
      "Epoch 45: train loss: 1.0587924718856812; test loss: 1.060609221458435\n",
      "Epoch 45: train accuracy: 0.68501; test accuracy: 0.6775\n",
      "Epoch 50: train loss: 1.0535541772842407; test loss: 1.0596779584884644\n",
      "Epoch 50: train accuracy: 0.68698; test accuracy: 0.6774\n",
      "Epoch 55: train loss: 1.00263512134552; test loss: 1.0590413808822632\n",
      "Epoch 55: train accuracy: 0.68786; test accuracy: 0.6784\n",
      "Epoch 60: train loss: 1.0266779661178589; test loss: 1.0576590299606323\n",
      "Epoch 60: train accuracy: 0.68942; test accuracy: 0.6802\n",
      "Epoch 65: train loss: 1.0584609508514404; test loss: 1.0574133396148682\n",
      "Epoch 65: train accuracy: 0.69086; test accuracy: 0.6803\n",
      "Epoch 70: train loss: 1.0444756746292114; test loss: 1.0564863681793213\n",
      "Epoch 70: train accuracy: 0.69235; test accuracy: 0.6815\n",
      "Epoch 75: train loss: 1.0401426553726196; test loss: 1.0561212301254272\n",
      "Epoch 75: train accuracy: 0.69283; test accuracy: 0.6822\n",
      "Epoch 80: train loss: 1.058584213256836; test loss: 1.0546773672103882\n",
      "Epoch 80: train accuracy: 0.69375; test accuracy: 0.6842\n",
      "Epoch 85: train loss: 1.0656375885009766; test loss: 1.0546996593475342\n",
      "Epoch 85: train accuracy: 0.69602; test accuracy: 0.6844\n",
      "Epoch 90: train loss: 1.0220428705215454; test loss: 1.0540262460708618\n",
      "Epoch 90: train accuracy: 0.69625; test accuracy: 0.6869\n",
      "Epoch 95: train loss: 1.0532273054122925; test loss: 1.0536737442016602\n",
      "Epoch 95: train accuracy: 0.698; test accuracy: 0.6862\n",
      "Epoch 100: train loss: 1.047188639640808; test loss: 1.0532573461532593\n",
      "Epoch 100: train accuracy: 0.69924; test accuracy: 0.6864\n",
      "Epoch 105: train loss: 1.0437722206115723; test loss: 1.0523139238357544\n",
      "Epoch 105: train accuracy: 0.69958; test accuracy: 0.6878\n",
      "Epoch 110: train loss: 1.0268428325653076; test loss: 1.0522615909576416\n",
      "Epoch 110: train accuracy: 0.70081; test accuracy: 0.6879\n",
      "Epoch 115: train loss: 1.0561127662658691; test loss: 1.0516258478164673\n",
      "Epoch 115: train accuracy: 0.69999; test accuracy: 0.687\n",
      "Epoch 120: train loss: 1.0196892023086548; test loss: 1.0514768362045288\n",
      "Epoch 120: train accuracy: 0.70177; test accuracy: 0.6877\n",
      "Epoch 125: train loss: 1.0170888900756836; test loss: 1.0508514642715454\n",
      "Epoch 125: train accuracy: 0.70326; test accuracy: 0.6894\n",
      "Epoch 130: train loss: 1.0314091444015503; test loss: 1.0503413677215576\n",
      "Epoch 130: train accuracy: 0.70528; test accuracy: 0.69\n",
      "Epoch 135: train loss: 1.0316736698150635; test loss: 1.0494801998138428\n",
      "Epoch 135: train accuracy: 0.70597; test accuracy: 0.6913\n",
      "Epoch 140: train loss: 1.0308640003204346; test loss: 1.0494722127914429\n",
      "Epoch 140: train accuracy: 0.70684; test accuracy: 0.6909\n",
      "Epoch 145: train loss: 0.9938384890556335; test loss: 1.04888916015625\n",
      "Epoch 145: train accuracy: 0.7074; test accuracy: 0.692\n",
      "Epoch 150: train loss: 1.0032564401626587; test loss: 1.0490156412124634\n",
      "Epoch 150: train accuracy: 0.70776; test accuracy: 0.6902\n",
      "Epoch 155: train loss: 1.05040442943573; test loss: 1.048703908920288\n",
      "Epoch 155: train accuracy: 0.70795; test accuracy: 0.692\n",
      "Epoch 160: train loss: 1.0418354272842407; test loss: 1.0486401319503784\n",
      "Epoch 160: train accuracy: 0.71134; test accuracy: 0.6919\n",
      "Epoch 165: train loss: 1.0380655527114868; test loss: 1.0485436916351318\n",
      "Epoch 165: train accuracy: 0.71242; test accuracy: 0.6932\n",
      "Epoch 170: train loss: 1.0705435276031494; test loss: 1.0481860637664795\n",
      "Epoch 170: train accuracy: 0.71131; test accuracy: 0.693\n",
      "Epoch 175: train loss: 1.0473092794418335; test loss: 1.047337293624878\n",
      "Epoch 175: train accuracy: 0.71378; test accuracy: 0.6936\n",
      "Epoch 180: train loss: 1.028849720954895; test loss: 1.0489461421966553\n",
      "Epoch 180: train accuracy: 0.71294; test accuracy: 0.6924\n",
      "Epoch 185: train loss: 1.0399013757705688; test loss: 1.0485219955444336\n",
      "Epoch 185: train accuracy: 0.71474; test accuracy: 0.694\n",
      "Epoch 190: train loss: 1.037195086479187; test loss: 1.046770691871643\n",
      "Epoch 190: train accuracy: 0.71648; test accuracy: 0.6956\n",
      "Epoch 195: train loss: 1.0340855121612549; test loss: 1.0470515489578247\n",
      "Epoch 195: train accuracy: 0.71724; test accuracy: 0.6954\n",
      "Epoch 200: train loss: 1.0199438333511353; test loss: 1.046587347984314\n",
      "Epoch 200: train accuracy: 0.71769; test accuracy: 0.6956\n",
      "Epoch 205: train loss: 1.0510615110397339; test loss: 1.0464293956756592\n",
      "Epoch 205: train accuracy: 0.71856; test accuracy: 0.6952\n",
      "Epoch 210: train loss: 1.0132637023925781; test loss: 1.0462486743927002\n",
      "Epoch 210: train accuracy: 0.71971; test accuracy: 0.695\n",
      "Epoch 215: train loss: 1.004507064819336; test loss: 1.0459641218185425\n",
      "Epoch 215: train accuracy: 0.71907; test accuracy: 0.6938\n",
      "Epoch 220: train loss: 1.014021396636963; test loss: 1.045341968536377\n",
      "Epoch 220: train accuracy: 0.71971; test accuracy: 0.6976\n",
      "Epoch 225: train loss: 1.019423246383667; test loss: 1.0449416637420654\n",
      "Epoch 225: train accuracy: 0.72275; test accuracy: 0.6956\n",
      "Epoch 230: train loss: 0.9957688450813293; test loss: 1.044641375541687\n",
      "Epoch 230: train accuracy: 0.7227; test accuracy: 0.6983\n",
      "Epoch 235: train loss: 1.0017930269241333; test loss: 1.0446672439575195\n",
      "Epoch 235: train accuracy: 0.72427; test accuracy: 0.6985\n",
      "Epoch 240: train loss: 1.0151745080947876; test loss: 1.0449514389038086\n",
      "Epoch 240: train accuracy: 0.72551; test accuracy: 0.6966\n",
      "Epoch 245: train loss: 1.0441521406173706; test loss: 1.0452518463134766\n",
      "Epoch 245: train accuracy: 0.7259; test accuracy: 0.696\n",
      "Epoch 250: train loss: 1.0413709878921509; test loss: 1.045134425163269\n",
      "Epoch 250: train accuracy: 0.72738; test accuracy: 0.6959\n",
      "Epoch 255: train loss: 1.0201566219329834; test loss: 1.0449488162994385\n",
      "Epoch 255: train accuracy: 0.7269; test accuracy: 0.6973\n",
      "Epoch 260: train loss: 0.9991843104362488; test loss: 1.0446890592575073\n",
      "Epoch 260: train accuracy: 0.72784; test accuracy: 0.6973\n",
      "Epoch 265: train loss: 1.0421255826950073; test loss: 1.0447558164596558\n",
      "Epoch 265: train accuracy: 0.72804; test accuracy: 0.6961\n",
      "Epoch 270: train loss: 1.034723162651062; test loss: 1.043639898300171\n",
      "Epoch 270: train accuracy: 0.72848; test accuracy: 0.6981\n",
      "Epoch 275: train loss: 1.0092579126358032; test loss: 1.0437332391738892\n",
      "Epoch 275: train accuracy: 0.72983; test accuracy: 0.6979\n",
      "Epoch 280: train loss: 1.0328644514083862; test loss: 1.0435972213745117\n",
      "Epoch 280: train accuracy: 0.73034; test accuracy: 0.699\n",
      "Epoch 285: train loss: 1.0435879230499268; test loss: 1.0435353517532349\n",
      "Epoch 285: train accuracy: 0.72804; test accuracy: 0.6995\n",
      "Epoch 290: train loss: 1.0242090225219727; test loss: 1.0436722040176392\n",
      "Epoch 290: train accuracy: 0.73089; test accuracy: 0.6981\n",
      "Epoch 295: train loss: 1.018054723739624; test loss: 1.0430259704589844\n",
      "Epoch 295: train accuracy: 0.73044; test accuracy: 0.6997\n",
      "Epoch 300: train loss: 1.011804223060608; test loss: 1.042853593826294\n",
      "Epoch 300: train accuracy: 0.73261; test accuracy: 0.699\n",
      "Epoch 305: train loss: 1.007031798362732; test loss: 1.0424307584762573\n",
      "Epoch 305: train accuracy: 0.73271; test accuracy: 0.6995\n",
      "Epoch 310: train loss: 1.0231397151947021; test loss: 1.04526948928833\n",
      "Epoch 310: train accuracy: 0.72887; test accuracy: 0.6967\n",
      "Epoch 315: train loss: 0.9903620481491089; test loss: 1.0422749519348145\n",
      "Epoch 315: train accuracy: 0.73389; test accuracy: 0.6995\n"
     ]
    },
    {
     "name": "stdout",
     "output_type": "stream",
     "text": [
      "Epoch 320: train loss: 1.029418706893921; test loss: 1.0423991680145264\n",
      "Epoch 320: train accuracy: 0.73471; test accuracy: 0.6992\n",
      "Epoch 325: train loss: 0.9785531163215637; test loss: 1.0419909954071045\n",
      "Epoch 325: train accuracy: 0.73472; test accuracy: 0.7005\n",
      "Epoch 330: train loss: 1.022704005241394; test loss: 1.0423346757888794\n",
      "Epoch 330: train accuracy: 0.73531; test accuracy: 0.7006\n",
      "Epoch 335: train loss: 1.0264344215393066; test loss: 1.0423082113265991\n",
      "Epoch 335: train accuracy: 0.73594; test accuracy: 0.6999\n",
      "Epoch 340: train loss: 0.9916133880615234; test loss: 1.0412702560424805\n",
      "Epoch 340: train accuracy: 0.73667; test accuracy: 0.702\n",
      "Epoch 345: train loss: 1.039635419845581; test loss: 1.0423552989959717\n",
      "Epoch 345: train accuracy: 0.73605; test accuracy: 0.7001\n",
      "Epoch 350: train loss: 0.9962486028671265; test loss: 1.0419771671295166\n",
      "Epoch 350: train accuracy: 0.73632; test accuracy: 0.6995\n",
      "Epoch 355: train loss: 0.9984264969825745; test loss: 1.0424152612686157\n",
      "Epoch 355: train accuracy: 0.73667; test accuracy: 0.6998\n",
      "Epoch 360: train loss: 1.0457481145858765; test loss: 1.040850043296814\n",
      "Epoch 360: train accuracy: 0.73811; test accuracy: 0.7017\n",
      "Epoch 365: train loss: 1.025597333908081; test loss: 1.0413955450057983\n",
      "Epoch 365: train accuracy: 0.73887; test accuracy: 0.7006\n",
      "Epoch 370: train loss: 1.0381381511688232; test loss: 1.0413050651550293\n",
      "Epoch 370: train accuracy: 0.73826; test accuracy: 0.7016\n",
      "Epoch 375: train loss: 1.0116925239562988; test loss: 1.0414289236068726\n",
      "Epoch 375: train accuracy: 0.73858; test accuracy: 0.7004\n",
      "Epoch 380: train loss: 1.0068477392196655; test loss: 1.0409868955612183\n",
      "Epoch 380: train accuracy: 0.73957; test accuracy: 0.7016\n",
      "Epoch 385: train loss: 1.0212804079055786; test loss: 1.0403831005096436\n",
      "Epoch 385: train accuracy: 0.74029; test accuracy: 0.7026\n",
      "Epoch 390: train loss: 1.0337156057357788; test loss: 1.0404917001724243\n",
      "Epoch 390: train accuracy: 0.73994; test accuracy: 0.7025\n",
      "Epoch 395: train loss: 1.0032492876052856; test loss: 1.0409674644470215\n",
      "Epoch 395: train accuracy: 0.73995; test accuracy: 0.7016\n",
      "Epoch 400: train loss: 1.000800371170044; test loss: 1.0398958921432495\n",
      "Epoch 400: train accuracy: 0.7404; test accuracy: 0.7039\n",
      "Epoch 405: train loss: 1.0037493705749512; test loss: 1.0405192375183105\n",
      "Epoch 405: train accuracy: 0.74104; test accuracy: 0.7039\n",
      "Epoch 410: train loss: 0.9715299606323242; test loss: 1.0402635335922241\n",
      "Epoch 410: train accuracy: 0.74193; test accuracy: 0.7041\n",
      "Epoch 415: train loss: 0.9674215316772461; test loss: 1.040622353553772\n",
      "Epoch 415: train accuracy: 0.738; test accuracy: 0.7014\n",
      "Epoch 420: train loss: 0.990586519241333; test loss: 1.040198564529419\n",
      "Epoch 420: train accuracy: 0.74151; test accuracy: 0.7016\n",
      "Epoch 425: train loss: 1.0240001678466797; test loss: 1.0410444736480713\n",
      "Epoch 425: train accuracy: 0.7372; test accuracy: 0.7011\n",
      "Epoch 430: train loss: 1.01534104347229; test loss: 1.0406166315078735\n",
      "Epoch 430: train accuracy: 0.74161; test accuracy: 0.702\n",
      "Epoch 435: train loss: 1.0334997177124023; test loss: 1.0399831533432007\n",
      "Epoch 435: train accuracy: 0.74224; test accuracy: 0.7027\n",
      "Epoch 440: train loss: 0.9893278479576111; test loss: 1.038965106010437\n",
      "Epoch 440: train accuracy: 0.74425; test accuracy: 0.7033\n",
      "Epoch 445: train loss: 0.9904284477233887; test loss: 1.0391778945922852\n",
      "Epoch 445: train accuracy: 0.74428; test accuracy: 0.704\n",
      "Epoch 450: train loss: 0.9960801005363464; test loss: 1.0391167402267456\n",
      "Epoch 450: train accuracy: 0.7438; test accuracy: 0.7044\n",
      "Epoch 455: train loss: 1.021308422088623; test loss: 1.0389351844787598\n",
      "Epoch 455: train accuracy: 0.74404; test accuracy: 0.7036\n",
      "Epoch 460: train loss: 1.0096023082733154; test loss: 1.0388853549957275\n",
      "Epoch 460: train accuracy: 0.74302; test accuracy: 0.7049\n",
      "Epoch 465: train loss: 0.9866713881492615; test loss: 1.0381617546081543\n",
      "Epoch 465: train accuracy: 0.74561; test accuracy: 0.7048\n",
      "Epoch 470: train loss: 1.0139986276626587; test loss: 1.0390712022781372\n",
      "Epoch 470: train accuracy: 0.74572; test accuracy: 0.7039\n",
      "Epoch 475: train loss: 1.042807936668396; test loss: 1.0393481254577637\n",
      "Epoch 475: train accuracy: 0.74611; test accuracy: 0.7029\n",
      "Epoch 480: train loss: 0.9985455274581909; test loss: 1.0379910469055176\n",
      "Epoch 480: train accuracy: 0.7471; test accuracy: 0.705\n",
      "Epoch 485: train loss: 1.0005147457122803; test loss: 1.0381121635437012\n",
      "Epoch 485: train accuracy: 0.74604; test accuracy: 0.7048\n",
      "Epoch 490: train loss: 0.9803003072738647; test loss: 1.0377005338668823\n",
      "Epoch 490: train accuracy: 0.74695; test accuracy: 0.7055\n",
      "Epoch 495: train loss: 1.003902554512024; test loss: 1.0384455919265747\n",
      "Epoch 495: train accuracy: 0.74794; test accuracy: 0.7047\n"
     ]
    }
   ],
   "source": [
    "# training\n",
    "train_losses = []\n",
    "test_losses = []\n",
    "train_accuracies = []\n",
    "test_accuracies = []\n",
    "\n",
    "for n_epoch in range(n_epoches):\n",
    "    # create permutation for batch training\n",
    "    permutation = torch.randperm(x_train_nhts_torch.size()[0])\n",
    "    for i in range(0, x_train_nhts_torch.size()[0], batch_size):\n",
    "        # clear gradients first (for each iteration!)!\n",
    "        optim.zero_grad()\n",
    "        # forward pass\n",
    "        indices = permutation[i:i+batch_size]\n",
    "        batch_x, batch_y = x_train_nhts_torch[indices].to(device), y_train_torch[indices].to(device)\n",
    "        batch_y_pred_train = net(batch_x).to(device)\n",
    "        # loss \n",
    "        loss = criterion(batch_y_pred_train.squeeze(), batch_y)\n",
    "        # compute gradients\n",
    "        loss.backward()\n",
    "        # one step optim\n",
    "        optim.step()\n",
    "    \n",
    "    with torch.no_grad():\n",
    "        # eval training accuracy\n",
    "        y_pred_train = net(x_train_nhts_torch.to(device))\n",
    "        loss_train = criterion(y_pred_train.squeeze(), y_train_torch.to(device))\n",
    "        train_losses.append(loss_train)\n",
    "        _, predict_train = torch.max(y_pred_train, axis = 1)\n",
    "        accuracy_train = (predict_train == y_train_torch.to(device)).sum().item()/n_train  \n",
    "        train_accuracies.append(accuracy_train)\n",
    "        # evaluate testing sets step-wise\n",
    "        net.eval()\n",
    "        y_pred_test = net(x_test_nhts_torch.to(device))\n",
    "        loss_test = criterion(y_pred_test.squeeze(), y_test_torch.to(device))\n",
    "        test_losses.append(loss_test)\n",
    "        _, predict_test = torch.max(y_pred_test.to(device), axis = 1)\n",
    "        accuracy_test = (predict_test == y_test_torch.to(device)).sum().item()/n_test\n",
    "        test_accuracies.append(accuracy_test)\n",
    "        # print info    \n",
    "        if n_epoch % 5 == 0:\n",
    "            print('Epoch {}: train loss: {}; test loss: {}'.format(n_epoch, loss.item(), loss_test.item()))\n",
    "            print('Epoch {}: train accuracy: {}; test accuracy: {}'.format(n_epoch, accuracy_train, accuracy_test)) "
   ]
  },
  {
   "cell_type": "code",
   "execution_count": 9,
   "metadata": {},
   "outputs": [
    {
     "data": {
      "text/plain": [
       "<matplotlib.legend.Legend at 0x7fa088086b10>"
      ]
     },
     "execution_count": 9,
     "metadata": {},
     "output_type": "execute_result"
    },
    {
     "data": {
      "image/png": "[encoded data removed]",
      "text/plain": [
       "<Figure size 432x288 with 1 Axes>"
      ]
     },
     "metadata": {
      "needs_background": "light"
     },
     "output_type": "display_data"
    }
   ],
   "source": [
    "plt.plot(train_losses, label = \"train loss\")\n",
    "plt.plot(test_losses, label = \"test loss\")\n",
    "plt.legend()"
   ]
  },
  {
   "cell_type": "code",
   "execution_count": 10,
   "metadata": {},
   "outputs": [
    {
     "data": {
      "text/plain": [
       "<matplotlib.legend.Legend at 0x7fa0803beb90>"
      ]
     },
     "execution_count": 10,
     "metadata": {},
     "output_type": "execute_result"
    },
    {
     "data": {
      "image/png": "[encoded data removed]",
      "text/plain": [
       "<Figure size 432x288 with 1 Axes>"
      ]
     },
     "metadata": {
      "needs_background": "light"
     },
     "output_type": "display_data"
    }
   ],
   "source": [
    "plt.plot(train_accuracies, label = \"train accuracy\")\n",
    "plt.plot(test_accuracies, label = \"test accuracy\")\n",
    "plt.legend()"
   ]
  },
  {
   "cell_type": "code",
   "execution_count": null,
   "metadata": {},
   "outputs": [],
   "source": []
  }
 ],
 "metadata": {
  "kernelspec": {
   "display_name": "Python 3",
   "language": "python",
   "name": "python3"
  },
  "language_info": {
   "codemirror_mode": {
    "name": "ipython",
    "version": 3
   },
   "file_extension": ".py",
   "mimetype": "text/x-python",
   "name": "python",
   "nbconvert_exporter": "python",
   "pygments_lexer": "ipython3",
   "version": "3.7.4"
  }
 },
 "nbformat": 4,
 "nbformat_minor": 2
}

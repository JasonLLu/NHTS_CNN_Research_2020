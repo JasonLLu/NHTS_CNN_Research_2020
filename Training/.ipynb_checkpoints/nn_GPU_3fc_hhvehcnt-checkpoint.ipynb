{
 "cells": [
  {
   "cell_type": "code",
   "execution_count": 1,
   "metadata": {},
   "outputs": [],
   "source": [
    "import torch\n",
    "import torch.nn as nn\n",
    "import torch.nn.functional as F\n",
    "import torchvision\n",
    "import numpy as np\n",
    "import pandas as pd\n",
    "from matplotlib import pyplot as plt"
   ]
  },
  {
   "cell_type": "code",
   "execution_count": 2,
   "metadata": {},
   "outputs": [
    {
     "name": "stdout",
     "output_type": "stream",
     "text": [
      "Using the GPU!\n"
     ]
    }
   ],
   "source": [
    "# Detect if we have a GPU available\n",
    "device = torch.device(\"cuda:0\" if torch.cuda.is_available() else \"cpu\")\n",
    "if torch.cuda.is_available():\n",
    "    print(\"Using the GPU!\")\n",
    "else:\n",
    "    print(\"WARNING: Could not find GPU! Using CPU only\")"
   ]
  },
  {
   "cell_type": "code",
   "execution_count": 3,
   "metadata": {},
   "outputs": [
    {
     "name": "stdout",
     "output_type": "stream",
     "text": [
      "The sample size of training set is:  100000\n",
      "The sample size of testing set is:  10000\n"
     ]
    }
   ],
   "source": [
    "x_train_nhts = np.load(\"x_train100k.npy\")[:,1:]\n",
    "x_test_nhts = np.load(\"x_test100k.npy\")[:,1:]\n",
    "\n",
    "y_train = np.load(\"y_train_hhvehcnt100k.npy\")\n",
    "y_test = np.load(\"y_test_hhvehcnt100k.npy\")\n",
    "print(\"The sample size of training set is: \", x_train_nhts.shape[0])\n",
    "print(\"The sample size of testing set is: \", x_test_nhts.shape[0])"
   ]
  },
  {
   "cell_type": "code",
   "execution_count": 4,
   "metadata": {
    "scrolled": true
   },
   "outputs": [
    {
     "name": "stdout",
     "output_type": "stream",
     "text": [
      "(100000, 87)\n",
      "(100000, 1)\n",
      "[0.         0.         1.         0.         0.22222222 0.\n",
      " 0.         0.         1.         0.         0.         1.\n",
      " 0.         0.         0.         0.         0.         0.\n",
      " 0.         0.         0.         0.         0.         0.\n",
      " 1.         0.         0.         0.         0.         0.\n",
      " 0.         0.         0.         1.         0.         0.\n",
      " 1.         0.         0.         0.         0.         0.\n",
      " 0.         0.         0.         0.         0.         0.\n",
      " 1.         0.         0.         0.         0.         0.33333334\n",
      " 1.         0.         0.         0.         0.         0.\n",
      " 0.         1.         0.         0.         0.         0.\n",
      " 0.         0.         1.         0.         0.         0.\n",
      " 0.         0.         0.         0.         1.         0.\n",
      " 0.         1.         0.37       1.         0.         0.\n",
      " 0.         0.         1.        ]\n",
      "[2]\n"
     ]
    }
   ],
   "source": [
    "print(x_train_nhts.shape)\n",
    "print(y_train.shape)\n",
    "print(x_train_nhts[0])\n",
    "print(y_train[0])"
   ]
  },
  {
   "cell_type": "code",
   "execution_count": 6,
   "metadata": {},
   "outputs": [
    {
     "name": "stdout",
     "output_type": "stream",
     "text": [
      "Number of alternatives:  4\n",
      "Number of input dimensions:  87\n",
      "Share of vehicle counts: \n",
      "2    0.42611\n",
      "3    0.31443\n",
      "1    0.23523\n",
      "0    0.02423\n",
      "dtype: float64\n"
     ]
    }
   ],
   "source": [
    "# bridge numpy to torch\n",
    "x_train_nhts_torch = torch.as_tensor(x_train_nhts).float() # specify floats for the inputs\n",
    "x_test_nhts_torch = torch.as_tensor(x_test_nhts).float()\n",
    "y_train_torch = torch.as_tensor(y_train[:,0])\n",
    "y_test_torch = torch.as_tensor(y_test[:,0])\n",
    "n_train = x_train_nhts.shape[0]\n",
    "n_test = x_test_nhts.shape[0]\n",
    "# inputs: x_train_nhts, x_train_images, x_test_nhts, x_test_images, y_train, and y_test; \n",
    "K = len(np.unique(y_train))\n",
    "print(\"Number of alternatives: \", K)\n",
    "x_dim = x_train_nhts.shape[1]\n",
    "print(\"Number of input dimensions: \", x_dim)\n",
    "print(\"Share of vehicle counts: \")\n",
    "print(pd.value_counts(y_train[:,0])/y_train.shape[0])"
   ]
  },
  {
   "cell_type": "code",
   "execution_count": 7,
   "metadata": {},
   "outputs": [],
   "source": [
    "# Type 1: with only NHTS dataset.\n",
    "class NN(nn.Module):  # subclass nn.Module\n",
    "    def __init__(self):\n",
    "        super(NN, self).__init__()\n",
    "        self.fc1 = nn.Linear(x_dim, 128)\n",
    "        self.fc2 = nn.Linear(128, 128)\n",
    "        self.fc3 = nn.Linear(128, K)\n",
    "        self.softmax = nn.Softmax(dim=1)\n",
    "    def forward(self, x):\n",
    "        x = self.fc1(x)\n",
    "        x = x.relu()\n",
    "        x = self.fc2(x)\n",
    "        x = x.relu()\n",
    "        x = self.fc3(x)\n",
    "        x = self.softmax(x)\n",
    "        return x"
   ]
  },
  {
   "cell_type": "code",
   "execution_count": 8,
   "metadata": {},
   "outputs": [
    {
     "name": "stdout",
     "output_type": "stream",
     "text": [
      "<class '__main__.NN'>\n"
     ]
    }
   ],
   "source": [
    "net = NN().float().to(device)\n",
    "print(type(net))\n",
    "optim = torch.optim.Adam(net.parameters(), lr=0.0001)\n",
    "criterion = nn.CrossEntropyLoss()\n",
    "# \n",
    "n_epoches = 500 # so many?\n",
    "batch_size = 500"
   ]
  },
  {
   "cell_type": "code",
   "execution_count": 8,
   "metadata": {},
   "outputs": [
    {
     "name": "stdout",
     "output_type": "stream",
     "text": [
      "Epoch 0: train loss: 1.2672150135040283; test loss: 1.2712875604629517\n",
      "Epoch 0: train accuracy: 0.42643; test accuracy: 0.4278\n",
      "Epoch 5: train loss: 1.1154829263687134; test loss: 1.1158642768859863\n",
      "Epoch 5: train accuracy: 0.62828; test accuracy: 0.6182\n",
      "Epoch 10: train loss: 1.104817509651184; test loss: 1.0995179414749146\n",
      "Epoch 10: train accuracy: 0.64977; test accuracy: 0.6369\n",
      "Epoch 15: train loss: 1.045219898223877; test loss: 1.0885108709335327\n",
      "Epoch 15: train accuracy: 0.66105; test accuracy: 0.6502\n",
      "Epoch 20: train loss: 1.0449230670928955; test loss: 1.0810641050338745\n",
      "Epoch 20: train accuracy: 0.67093; test accuracy: 0.657\n",
      "Epoch 25: train loss: 1.0921574831008911; test loss: 1.0750421285629272\n",
      "Epoch 25: train accuracy: 0.67668; test accuracy: 0.6615\n",
      "Epoch 30: train loss: 1.0449256896972656; test loss: 1.070559024810791\n",
      "Epoch 30: train accuracy: 0.68; test accuracy: 0.6652\n",
      "Epoch 35: train loss: 1.0695319175720215; test loss: 1.068448781967163\n",
      "Epoch 35: train accuracy: 0.68236; test accuracy: 0.6691\n",
      "Epoch 40: train loss: 1.0389835834503174; test loss: 1.0668593645095825\n",
      "Epoch 40: train accuracy: 0.68454; test accuracy: 0.6724\n",
      "Epoch 45: train loss: 1.019499659538269; test loss: 1.065883994102478\n",
      "Epoch 45: train accuracy: 0.68571; test accuracy: 0.673\n",
      "Epoch 50: train loss: 1.0058033466339111; test loss: 1.0644582509994507\n",
      "Epoch 50: train accuracy: 0.68669; test accuracy: 0.6712\n",
      "Epoch 55: train loss: 1.0566576719284058; test loss: 1.06406831741333\n",
      "Epoch 55: train accuracy: 0.68826; test accuracy: 0.6736\n",
      "Epoch 60: train loss: 1.0424736738204956; test loss: 1.0638258457183838\n",
      "Epoch 60: train accuracy: 0.68891; test accuracy: 0.6753\n",
      "Epoch 65: train loss: 1.0569405555725098; test loss: 1.0630096197128296\n",
      "Epoch 65: train accuracy: 0.68826; test accuracy: 0.6755\n",
      "Epoch 70: train loss: 1.0556635856628418; test loss: 1.0627766847610474\n",
      "Epoch 70: train accuracy: 0.69112; test accuracy: 0.6767\n",
      "Epoch 75: train loss: 1.0481743812561035; test loss: 1.0634578466415405\n",
      "Epoch 75: train accuracy: 0.69232; test accuracy: 0.6758\n",
      "Epoch 80: train loss: 1.036222219467163; test loss: 1.0624706745147705\n",
      "Epoch 80: train accuracy: 0.6928; test accuracy: 0.6763\n",
      "Epoch 85: train loss: 1.018692135810852; test loss: 1.061357855796814\n",
      "Epoch 85: train accuracy: 0.69239; test accuracy: 0.6761\n",
      "Epoch 90: train loss: 1.022705316543579; test loss: 1.0622185468673706\n",
      "Epoch 90: train accuracy: 0.695; test accuracy: 0.6761\n",
      "Epoch 95: train loss: 1.0188961029052734; test loss: 1.0611294507980347\n",
      "Epoch 95: train accuracy: 0.696; test accuracy: 0.6793\n",
      "Epoch 100: train loss: 1.024069905281067; test loss: 1.0603431463241577\n",
      "Epoch 100: train accuracy: 0.69782; test accuracy: 0.6789\n",
      "Epoch 105: train loss: 1.0620136260986328; test loss: 1.0594539642333984\n",
      "Epoch 105: train accuracy: 0.69785; test accuracy: 0.6783\n",
      "Epoch 110: train loss: 1.0406532287597656; test loss: 1.0592085123062134\n",
      "Epoch 110: train accuracy: 0.69903; test accuracy: 0.681\n",
      "Epoch 115: train loss: 1.0575741529464722; test loss: 1.0593316555023193\n",
      "Epoch 115: train accuracy: 0.70007; test accuracy: 0.6795\n",
      "Epoch 120: train loss: 1.0807174444198608; test loss: 1.0597245693206787\n",
      "Epoch 120: train accuracy: 0.701; test accuracy: 0.6797\n",
      "Epoch 125: train loss: 1.033933162689209; test loss: 1.0595693588256836\n",
      "Epoch 125: train accuracy: 0.70224; test accuracy: 0.6804\n",
      "Epoch 130: train loss: 1.047761082649231; test loss: 1.0591058731079102\n",
      "Epoch 130: train accuracy: 0.70352; test accuracy: 0.6817\n",
      "Epoch 135: train loss: 1.0659912824630737; test loss: 1.058682918548584\n",
      "Epoch 135: train accuracy: 0.70364; test accuracy: 0.6814\n",
      "Epoch 140: train loss: 1.0334261655807495; test loss: 1.059143304824829\n",
      "Epoch 140: train accuracy: 0.70379; test accuracy: 0.6805\n",
      "Epoch 145: train loss: 1.028717041015625; test loss: 1.0577720403671265\n",
      "Epoch 145: train accuracy: 0.70588; test accuracy: 0.6818\n",
      "Epoch 150: train loss: 1.0717717409133911; test loss: 1.0567402839660645\n",
      "Epoch 150: train accuracy: 0.70621; test accuracy: 0.6833\n",
      "Epoch 155: train loss: 1.0428431034088135; test loss: 1.056029200553894\n",
      "Epoch 155: train accuracy: 0.70386; test accuracy: 0.6839\n",
      "Epoch 160: train loss: 1.0508767366409302; test loss: 1.0560317039489746\n",
      "Epoch 160: train accuracy: 0.70896; test accuracy: 0.6859\n",
      "Epoch 165: train loss: 1.046857476234436; test loss: 1.0555505752563477\n",
      "Epoch 165: train accuracy: 0.70991; test accuracy: 0.6858\n",
      "Epoch 170: train loss: 1.054943323135376; test loss: 1.0567630529403687\n",
      "Epoch 170: train accuracy: 0.71007; test accuracy: 0.6837\n",
      "Epoch 175: train loss: 1.0425591468811035; test loss: 1.055044412612915\n",
      "Epoch 175: train accuracy: 0.70916; test accuracy: 0.6852\n",
      "Epoch 180: train loss: 1.0234144926071167; test loss: 1.055166244506836\n",
      "Epoch 180: train accuracy: 0.7126; test accuracy: 0.6859\n",
      "Epoch 185: train loss: 1.045732855796814; test loss: 1.0548648834228516\n",
      "Epoch 185: train accuracy: 0.71369; test accuracy: 0.6867\n",
      "Epoch 190: train loss: 1.0372058153152466; test loss: 1.0543686151504517\n",
      "Epoch 190: train accuracy: 0.71405; test accuracy: 0.6875\n",
      "Epoch 195: train loss: 1.0560507774353027; test loss: 1.0554866790771484\n",
      "Epoch 195: train accuracy: 0.71371; test accuracy: 0.6841\n",
      "Epoch 200: train loss: 1.0384031534194946; test loss: 1.0540269613265991\n",
      "Epoch 200: train accuracy: 0.71391; test accuracy: 0.6886\n",
      "Epoch 205: train loss: 1.053795576095581; test loss: 1.0541609525680542\n",
      "Epoch 205: train accuracy: 0.71538; test accuracy: 0.6867\n",
      "Epoch 210: train loss: 1.0297805070877075; test loss: 1.0528820753097534\n",
      "Epoch 210: train accuracy: 0.71588; test accuracy: 0.688\n",
      "Epoch 215: train loss: 1.0138555765151978; test loss: 1.0520418882369995\n",
      "Epoch 215: train accuracy: 0.71601; test accuracy: 0.6894\n",
      "Epoch 220: train loss: 1.030885100364685; test loss: 1.0526795387268066\n",
      "Epoch 220: train accuracy: 0.71852; test accuracy: 0.6885\n",
      "Epoch 225: train loss: 1.0392367839813232; test loss: 1.0523265600204468\n",
      "Epoch 225: train accuracy: 0.71897; test accuracy: 0.6889\n",
      "Epoch 230: train loss: 1.0198554992675781; test loss: 1.0516910552978516\n",
      "Epoch 230: train accuracy: 0.71977; test accuracy: 0.6898\n",
      "Epoch 235: train loss: 0.997362494468689; test loss: 1.0519967079162598\n",
      "Epoch 235: train accuracy: 0.71914; test accuracy: 0.6893\n",
      "Epoch 240: train loss: 1.025456190109253; test loss: 1.0515128374099731\n",
      "Epoch 240: train accuracy: 0.72135; test accuracy: 0.6904\n",
      "Epoch 245: train loss: 1.024273157119751; test loss: 1.0517817735671997\n",
      "Epoch 245: train accuracy: 0.72192; test accuracy: 0.691\n",
      "Epoch 250: train loss: 1.01683509349823; test loss: 1.0513023138046265\n",
      "Epoch 250: train accuracy: 0.72266; test accuracy: 0.69\n",
      "Epoch 255: train loss: 0.996284544467926; test loss: 1.0534929037094116\n",
      "Epoch 255: train accuracy: 0.72184; test accuracy: 0.6894\n",
      "Epoch 260: train loss: 1.026792287826538; test loss: 1.0509283542633057\n",
      "Epoch 260: train accuracy: 0.7197; test accuracy: 0.6899\n",
      "Epoch 265: train loss: 0.9958750605583191; test loss: 1.050845980644226\n",
      "Epoch 265: train accuracy: 0.7238; test accuracy: 0.6929\n",
      "Epoch 270: train loss: 1.0470383167266846; test loss: 1.0508151054382324\n",
      "Epoch 270: train accuracy: 0.72519; test accuracy: 0.6897\n",
      "Epoch 275: train loss: 1.0224299430847168; test loss: 1.050673246383667\n",
      "Epoch 275: train accuracy: 0.72483; test accuracy: 0.6904\n",
      "Epoch 280: train loss: 1.0360499620437622; test loss: 1.052342176437378\n",
      "Epoch 280: train accuracy: 0.72457; test accuracy: 0.6888\n",
      "Epoch 285: train loss: 1.0725442171096802; test loss: 1.051016926765442\n",
      "Epoch 285: train accuracy: 0.72627; test accuracy: 0.6912\n",
      "Epoch 290: train loss: 1.0169426202774048; test loss: 1.051035761833191\n",
      "Epoch 290: train accuracy: 0.72577; test accuracy: 0.6914\n",
      "Epoch 295: train loss: 1.0419392585754395; test loss: 1.0498865842819214\n",
      "Epoch 295: train accuracy: 0.72811; test accuracy: 0.6925\n",
      "Epoch 300: train loss: 1.0229156017303467; test loss: 1.0519996881484985\n",
      "Epoch 300: train accuracy: 0.72679; test accuracy: 0.6887\n",
      "Epoch 305: train loss: 1.038492202758789; test loss: 1.0496457815170288\n",
      "Epoch 305: train accuracy: 0.72866; test accuracy: 0.6936\n",
      "Epoch 310: train loss: 1.0066710710525513; test loss: 1.0507570505142212\n",
      "Epoch 310: train accuracy: 0.72809; test accuracy: 0.6912\n",
      "Epoch 315: train loss: 1.030318260192871; test loss: 1.0497463941574097\n",
      "Epoch 315: train accuracy: 0.72924; test accuracy: 0.6939\n"
     ]
    },
    {
     "name": "stdout",
     "output_type": "stream",
     "text": [
      "Epoch 320: train loss: 1.033522367477417; test loss: 1.0498961210250854\n",
      "Epoch 320: train accuracy: 0.72834; test accuracy: 0.6916\n",
      "Epoch 325: train loss: 1.0412335395812988; test loss: 1.049668312072754\n",
      "Epoch 325: train accuracy: 0.73031; test accuracy: 0.6922\n",
      "Epoch 330: train loss: 1.0174740552902222; test loss: 1.050931453704834\n",
      "Epoch 330: train accuracy: 0.72956; test accuracy: 0.6912\n",
      "Epoch 335: train loss: 1.0016878843307495; test loss: 1.0491427183151245\n",
      "Epoch 335: train accuracy: 0.73038; test accuracy: 0.6928\n",
      "Epoch 340: train loss: 0.9942792654037476; test loss: 1.0503064393997192\n",
      "Epoch 340: train accuracy: 0.73137; test accuracy: 0.6916\n",
      "Epoch 345: train loss: 0.9831655621528625; test loss: 1.0507140159606934\n",
      "Epoch 345: train accuracy: 0.73084; test accuracy: 0.6913\n",
      "Epoch 350: train loss: 1.0272819995880127; test loss: 1.0493770837783813\n",
      "Epoch 350: train accuracy: 0.73274; test accuracy: 0.6929\n",
      "Epoch 355: train loss: 1.0060395002365112; test loss: 1.050179123878479\n",
      "Epoch 355: train accuracy: 0.73164; test accuracy: 0.6919\n",
      "Epoch 360: train loss: 0.9989652633666992; test loss: 1.0491455793380737\n",
      "Epoch 360: train accuracy: 0.73345; test accuracy: 0.6929\n",
      "Epoch 365: train loss: 1.0232146978378296; test loss: 1.0485543012619019\n",
      "Epoch 365: train accuracy: 0.73263; test accuracy: 0.6924\n",
      "Epoch 370: train loss: 1.0179959535598755; test loss: 1.049445629119873\n",
      "Epoch 370: train accuracy: 0.73312; test accuracy: 0.6927\n",
      "Epoch 375: train loss: 0.992104709148407; test loss: 1.0482094287872314\n",
      "Epoch 375: train accuracy: 0.73497; test accuracy: 0.6955\n",
      "Epoch 380: train loss: 1.0263099670410156; test loss: 1.0488892793655396\n",
      "Epoch 380: train accuracy: 0.73585; test accuracy: 0.6947\n",
      "Epoch 385: train loss: 1.034665822982788; test loss: 1.0485234260559082\n",
      "Epoch 385: train accuracy: 0.73577; test accuracy: 0.6922\n",
      "Epoch 390: train loss: 0.9833770394325256; test loss: 1.0508736371994019\n",
      "Epoch 390: train accuracy: 0.73225; test accuracy: 0.6909\n",
      "Epoch 395: train loss: 1.0301905870437622; test loss: 1.0476833581924438\n",
      "Epoch 395: train accuracy: 0.73594; test accuracy: 0.6937\n",
      "Epoch 400: train loss: 1.0399116277694702; test loss: 1.0501141548156738\n",
      "Epoch 400: train accuracy: 0.73465; test accuracy: 0.6914\n",
      "Epoch 405: train loss: 0.9884546399116516; test loss: 1.0480072498321533\n",
      "Epoch 405: train accuracy: 0.73718; test accuracy: 0.6931\n",
      "Epoch 410: train loss: 1.027949333190918; test loss: 1.0490931272506714\n",
      "Epoch 410: train accuracy: 0.73625; test accuracy: 0.6928\n",
      "Epoch 415: train loss: 1.0241516828536987; test loss: 1.0475223064422607\n",
      "Epoch 415: train accuracy: 0.73662; test accuracy: 0.6959\n",
      "Epoch 420: train loss: 1.045152187347412; test loss: 1.0512770414352417\n",
      "Epoch 420: train accuracy: 0.73272; test accuracy: 0.6899\n",
      "Epoch 425: train loss: 0.9830664992332458; test loss: 1.0487041473388672\n",
      "Epoch 425: train accuracy: 0.73676; test accuracy: 0.6947\n",
      "Epoch 430: train loss: 1.0015523433685303; test loss: 1.0471566915512085\n",
      "Epoch 430: train accuracy: 0.73841; test accuracy: 0.6953\n",
      "Epoch 435: train loss: 0.9880902767181396; test loss: 1.0469001531600952\n",
      "Epoch 435: train accuracy: 0.73929; test accuracy: 0.6958\n",
      "Epoch 440: train loss: 1.0273844003677368; test loss: 1.0483671426773071\n",
      "Epoch 440: train accuracy: 0.73085; test accuracy: 0.6928\n",
      "Epoch 445: train loss: 0.9798902273178101; test loss: 1.0471248626708984\n",
      "Epoch 445: train accuracy: 0.73851; test accuracy: 0.6954\n",
      "Epoch 450: train loss: 0.9917899966239929; test loss: 1.0463858842849731\n",
      "Epoch 450: train accuracy: 0.74002; test accuracy: 0.6957\n",
      "Epoch 455: train loss: 1.0304081439971924; test loss: 1.0470613241195679\n",
      "Epoch 455: train accuracy: 0.74038; test accuracy: 0.6963\n",
      "Epoch 460: train loss: 1.0202052593231201; test loss: 1.0468600988388062\n",
      "Epoch 460: train accuracy: 0.74031; test accuracy: 0.6961\n",
      "Epoch 465: train loss: 0.9905837774276733; test loss: 1.0463876724243164\n",
      "Epoch 465: train accuracy: 0.74101; test accuracy: 0.6968\n",
      "Epoch 470: train loss: 0.9965320229530334; test loss: 1.046322226524353\n",
      "Epoch 470: train accuracy: 0.7403; test accuracy: 0.696\n",
      "Epoch 475: train loss: 0.9974119067192078; test loss: 1.0467699766159058\n",
      "Epoch 475: train accuracy: 0.74042; test accuracy: 0.6963\n",
      "Epoch 480: train loss: 0.9708216190338135; test loss: 1.0462558269500732\n",
      "Epoch 480: train accuracy: 0.74218; test accuracy: 0.6975\n",
      "Epoch 485: train loss: 1.0030077695846558; test loss: 1.0477904081344604\n",
      "Epoch 485: train accuracy: 0.73947; test accuracy: 0.6942\n",
      "Epoch 490: train loss: 1.0021443367004395; test loss: 1.046928882598877\n",
      "Epoch 490: train accuracy: 0.74175; test accuracy: 0.6948\n",
      "Epoch 495: train loss: 1.0293000936508179; test loss: 1.0470333099365234\n",
      "Epoch 495: train accuracy: 0.74102; test accuracy: 0.6963\n"
     ]
    }
   ],
   "source": [
    "# training\n",
    "train_losses = []\n",
    "test_losses = []\n",
    "train_accuracies = []\n",
    "test_accuracies = []\n",
    "\n",
    "for n_epoch in range(n_epoches):\n",
    "    # create permutation for batch training\n",
    "    permutation = torch.randperm(x_train_nhts_torch.size()[0])\n",
    "    for i in range(0, x_train_nhts_torch.size()[0], batch_size):\n",
    "        # clear gradients first (for each iteration!)!\n",
    "        optim.zero_grad()\n",
    "        # forward pass\n",
    "        indices = permutation[i:i+batch_size]\n",
    "        batch_x, batch_y = x_train_nhts_torch[indices].to(device), y_train_torch[indices].to(device)\n",
    "        batch_y_pred_train = net(batch_x).to(device)\n",
    "        # loss \n",
    "        loss = criterion(batch_y_pred_train.squeeze(), batch_y)\n",
    "        # compute gradients\n",
    "        loss.backward()\n",
    "        # one step optim\n",
    "        optim.step()\n",
    "    \n",
    "    with torch.no_grad():\n",
    "        # eval training accuracy\n",
    "        y_pred_train = net(x_train_nhts_torch.to(device))\n",
    "        loss_train = criterion(y_pred_train.squeeze(), y_train_torch.to(device))\n",
    "        train_losses.append(loss_train)\n",
    "        _, predict_train = torch.max(y_pred_train, axis = 1)\n",
    "        accuracy_train = (predict_train == y_train_torch.to(device)).sum().item()/n_train  \n",
    "        train_accuracies.append(accuracy_train)\n",
    "        # evaluate testing sets step-wise\n",
    "        net.eval()\n",
    "        y_pred_test = net(x_test_nhts_torch.to(device))\n",
    "        loss_test = criterion(y_pred_test.squeeze(), y_test_torch.to(device))\n",
    "        test_losses.append(loss_test)\n",
    "        _, predict_test = torch.max(y_pred_test.to(device), axis = 1)\n",
    "        accuracy_test = (predict_test == y_test_torch.to(device)).sum().item()/n_test\n",
    "        test_accuracies.append(accuracy_test)\n",
    "        # print info    \n",
    "        if n_epoch % 5 == 0:\n",
    "            print('Epoch {}: train loss: {}; test loss: {}'.format(n_epoch, loss.item(), loss_test.item()))\n",
    "            print('Epoch {}: train accuracy: {}; test accuracy: {}'.format(n_epoch, accuracy_train, accuracy_test)) "
   ]
  },
  {
   "cell_type": "code",
   "execution_count": 9,
   "metadata": {},
   "outputs": [
    {
     "data": {
      "text/plain": [
       "<matplotlib.legend.Legend at 0x7f5974b8fdd8>"
      ]
     },
     "execution_count": 9,
     "metadata": {},
     "output_type": "execute_result"
    },
    {
     "data": {
      "image/png": "[encoded data removed]",
      "text/plain": [
       "<Figure size 432x288 with 1 Axes>"
      ]
     },
     "metadata": {
      "needs_background": "light"
     },
     "output_type": "display_data"
    }
   ],
   "source": [
    "plt.plot(train_losses, label = \"train loss\")\n",
    "plt.plot(test_losses, label = \"test loss\")\n",
    "plt.legend()"
   ]
  },
  {
   "cell_type": "code",
   "execution_count": 10,
   "metadata": {},
   "outputs": [
    {
     "data": {
      "text/plain": [
       "<matplotlib.legend.Legend at 0x7f5974ac05c0>"
      ]
     },
     "execution_count": 10,
     "metadata": {},
     "output_type": "execute_result"
    },
    {
     "data": {
      "image/png": "[encoded data removed]",
      "text/plain": [
       "<Figure size 432x288 with 1 Axes>"
      ]
     },
     "metadata": {
      "needs_background": "light"
     },
     "output_type": "display_data"
    }
   ],
   "source": [
    "plt.plot(train_accuracies, label = \"train accuracy\")\n",
    "plt.plot(test_accuracies, label = \"test accuracy\")\n",
    "plt.legend()"
   ]
  },
  {
   "cell_type": "code",
   "execution_count": null,
   "metadata": {},
   "outputs": [],
   "source": [
    "torch.save(net.state_dict(), \"data/nn_ADAM_3fc\")"
   ]
  },
  {
   "cell_type": "code",
   "execution_count": null,
   "metadata": {},
   "outputs": [],
   "source": []
  }
 ],
 "metadata": {
  "kernelspec": {
   "display_name": "Python 3",
   "language": "python",
   "name": "python3"
  },
  "language_info": {
   "codemirror_mode": {
    "name": "ipython",
    "version": 3
   },
   "file_extension": ".py",
   "mimetype": "text/x-python",
   "name": "python",
   "nbconvert_exporter": "python",
   "pygments_lexer": "ipython3",
   "version": "3.7.4"
  }
 },
 "nbformat": 4,
 "nbformat_minor": 2
}

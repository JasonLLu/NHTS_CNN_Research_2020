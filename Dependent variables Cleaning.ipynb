{
 "cells": [
  {
   "cell_type": "code",
   "execution_count": 1,
   "metadata": {},
   "outputs": [],
   "source": [
    "import pickle\n",
    "import pandas as pd\n",
    "import numpy as np"
   ]
  },
  {
   "cell_type": "code",
   "execution_count": 2,
   "metadata": {},
   "outputs": [],
   "source": [
    "with open('statesToDataORIGINAL.pickle', 'rb') as handle:\n",
    "    statesToData = pickle.load(handle)"
   ]
  },
  {
   "cell_type": "code",
   "execution_count": 3,
   "metadata": {},
   "outputs": [
    {
     "name": "stdout",
     "output_type": "stream",
     "text": [
      "{1, 2, 3, 4, 5, 6, 7, 8, 9, 10, 11, 12, 13, 14, 15, 16, 17, 18, 19, 20, 97}\n"
     ]
    }
   ],
   "source": [
    "lol = set()\n",
    "for state in statesToData:\n",
    "    for elt in statesToData[state][\"TRPTRANS\"].values:\n",
    "        lol.add(elt)\n",
    "print(lol)"
   ]
  },
  {
   "cell_type": "code",
   "execution_count": 4,
   "metadata": {},
   "outputs": [
    {
     "name": "stdout",
     "output_type": "stream",
     "text": [
      "NC :  (53182, 261)\n",
      "NC  after:  (53182, 261)\n",
      "WI :  (71784, 261)\n",
      "WI  after:  (71784, 261)\n",
      "NY :  (102113, 261)\n",
      "NY  after:  (102113, 261)\n",
      "MD :  (8586, 261)\n",
      "MD  after:  (8586, 261)\n",
      "PA :  (6235, 261)\n",
      "PA  after:  (6235, 261)\n",
      "CA :  (155992, 261)\n",
      "CA  after:  (155992, 261)\n",
      "TX :  (151067, 261)\n",
      "TX  after:  (151067, 261)\n",
      "AZ :  (16666, 261)\n",
      "AZ  after:  (16666, 261)\n",
      "WA :  (3751, 261)\n",
      "WA  after:  (3751, 261)\n",
      "IL :  (6282, 261)\n",
      "IL  after:  (6282, 261)\n",
      "KY :  (1789, 261)\n",
      "KY  after:  (1789, 261)\n",
      "MT :  (1976, 261)\n",
      "MT  after:  (1976, 261)\n",
      "IA :  (17444, 261)\n",
      "IA  after:  (17444, 261)\n",
      "GA :  (50457, 261)\n",
      "GA  after:  (50457, 261)\n",
      "ME :  (1820, 261)\n",
      "ME  after:  (1820, 261)\n",
      "VA :  (4323, 261)\n",
      "VA  after:  (4323, 261)\n",
      "SC :  (41005, 261)\n",
      "SC  after:  (41005, 261)\n",
      "WV :  (1353, 261)\n",
      "WV  after:  (1353, 261)\n",
      "FL :  (8079, 261)\n",
      "FL  after:  (8079, 261)\n",
      "NH :  (1673, 261)\n",
      "NH  after:  (1673, 261)\n",
      "MN :  (3606, 261)\n",
      "MN  after:  (3606, 261)\n",
      "NE :  (1910, 261)\n",
      "NE  after:  (1910, 261)\n",
      "AR :  (1084, 261)\n",
      "AR  after:  (1084, 261)\n",
      "NJ :  (3606, 261)\n",
      "NJ  after:  (3606, 261)\n",
      "SD :  (1914, 261)\n",
      "SD  after:  (1914, 261)\n",
      "NM :  (1503, 261)\n",
      "NM  after:  (1503, 261)\n",
      "OK :  (7523, 261)\n",
      "OK  after:  (7523, 261)\n",
      "MI :  (4746, 261)\n",
      "MI  after:  (4746, 261)\n",
      "VT :  (2308, 261)\n",
      "VT  after:  (2308, 261)\n",
      "ID :  (2061, 261)\n",
      "ID  after:  (2061, 261)\n",
      "DE :  (1556, 261)\n",
      "DE  after:  (1556, 261)\n",
      "MA :  (3211, 261)\n",
      "MA  after:  (3211, 261)\n",
      "WY :  (1588, 261)\n",
      "WY  after:  (1588, 261)\n",
      "CO :  (3005, 261)\n",
      "CO  after:  (3005, 261)\n",
      "IN :  (3126, 261)\n",
      "IN  after:  (3126, 261)\n",
      "AL :  (1826, 261)\n",
      "AL  after:  (1826, 261)\n",
      "TN :  (2617, 261)\n",
      "TN  after:  (2617, 261)\n",
      "HI :  (1764, 261)\n",
      "HI  after:  (1764, 261)\n",
      "AK :  (1427, 261)\n",
      "AK  after:  (1427, 261)\n",
      "OH :  (6295, 261)\n",
      "OH  after:  (6295, 261)\n",
      "RI :  (1394, 261)\n",
      "RI  after:  (1394, 261)\n",
      "LA :  (1411, 261)\n",
      "LA  after:  (1411, 261)\n",
      "OR :  (2544, 261)\n",
      "OR  after:  (2544, 261)\n",
      "KS :  (1775, 261)\n",
      "KS  after:  (1775, 261)\n",
      "UT :  (2511, 261)\n",
      "UT  after:  (2511, 261)\n",
      "MO :  (2763, 261)\n",
      "MO  after:  (2763, 261)\n",
      "DC :  (1692, 261)\n",
      "DC  after:  (1692, 261)\n",
      "NV :  (1274, 261)\n",
      "NV  after:  (1274, 261)\n",
      "ND :  (1669, 261)\n",
      "ND  after:  (1669, 261)\n",
      "MS :  (1136, 261)\n",
      "MS  after:  (1136, 261)\n",
      "CT :  (1409, 261)\n",
      "CT  after:  (1409, 261)\n"
     ]
    }
   ],
   "source": [
    "for key in statesToData:\n",
    "    df = statesToData[key]\n",
    "    before = df.shape\n",
    "    print(key,\": \", before)\n",
    "    df.drop(df[df[\"TRPTRANS\"] < 0].index, inplace=True)\n",
    "    after = df.shape\n",
    "    print(key,\" after: \", after)\n",
    "    if (before != after): print(\"different\")"
   ]
  },
  {
   "cell_type": "code",
   "execution_count": 5,
   "metadata": {},
   "outputs": [
    {
     "name": "stdout",
     "output_type": "stream",
     "text": [
      "NC :  (53182, 261)\n",
      "NC  after:  (53179, 261)\n",
      "different\n",
      "WI :  (71784, 261)\n",
      "WI  after:  (71783, 261)\n",
      "different\n",
      "NY :  (102113, 261)\n",
      "NY  after:  (102111, 261)\n",
      "different\n",
      "MD :  (8586, 261)\n",
      "MD  after:  (8585, 261)\n",
      "different\n",
      "PA :  (6235, 261)\n",
      "PA  after:  (6235, 261)\n",
      "CA :  (155992, 261)\n",
      "CA  after:  (155989, 261)\n",
      "different\n",
      "TX :  (151067, 261)\n",
      "TX  after:  (151066, 261)\n",
      "different\n",
      "AZ :  (16666, 261)\n",
      "AZ  after:  (16665, 261)\n",
      "different\n",
      "WA :  (3751, 261)\n",
      "WA  after:  (3751, 261)\n",
      "IL :  (6282, 261)\n",
      "IL  after:  (6282, 261)\n",
      "KY :  (1789, 261)\n",
      "KY  after:  (1789, 261)\n",
      "MT :  (1976, 261)\n",
      "MT  after:  (1976, 261)\n",
      "IA :  (17444, 261)\n",
      "IA  after:  (17443, 261)\n",
      "different\n",
      "GA :  (50457, 261)\n",
      "GA  after:  (50453, 261)\n",
      "different\n",
      "ME :  (1820, 261)\n",
      "ME  after:  (1820, 261)\n",
      "VA :  (4323, 261)\n",
      "VA  after:  (4323, 261)\n",
      "SC :  (41005, 261)\n",
      "SC  after:  (41003, 261)\n",
      "different\n",
      "WV :  (1353, 261)\n",
      "WV  after:  (1353, 261)\n",
      "FL :  (8079, 261)\n",
      "FL  after:  (8078, 261)\n",
      "different\n",
      "NH :  (1673, 261)\n",
      "NH  after:  (1673, 261)\n",
      "MN :  (3606, 261)\n",
      "MN  after:  (3606, 261)\n",
      "NE :  (1910, 261)\n",
      "NE  after:  (1910, 261)\n",
      "AR :  (1084, 261)\n",
      "AR  after:  (1084, 261)\n",
      "NJ :  (3606, 261)\n",
      "NJ  after:  (3606, 261)\n",
      "SD :  (1914, 261)\n",
      "SD  after:  (1914, 261)\n",
      "NM :  (1503, 261)\n",
      "NM  after:  (1503, 261)\n",
      "OK :  (7523, 261)\n",
      "OK  after:  (7523, 261)\n",
      "MI :  (4746, 261)\n",
      "MI  after:  (4746, 261)\n",
      "VT :  (2308, 261)\n",
      "VT  after:  (2308, 261)\n",
      "ID :  (2061, 261)\n",
      "ID  after:  (2061, 261)\n",
      "DE :  (1556, 261)\n",
      "DE  after:  (1556, 261)\n",
      "MA :  (3211, 261)\n",
      "MA  after:  (3211, 261)\n",
      "WY :  (1588, 261)\n",
      "WY  after:  (1588, 261)\n",
      "CO :  (3005, 261)\n",
      "CO  after:  (3005, 261)\n",
      "IN :  (3126, 261)\n",
      "IN  after:  (3126, 261)\n",
      "AL :  (1826, 261)\n",
      "AL  after:  (1826, 261)\n",
      "TN :  (2617, 261)\n",
      "TN  after:  (2617, 261)\n",
      "HI :  (1764, 261)\n",
      "HI  after:  (1764, 261)\n",
      "AK :  (1427, 261)\n",
      "AK  after:  (1427, 261)\n",
      "OH :  (6295, 261)\n",
      "OH  after:  (6295, 261)\n",
      "RI :  (1394, 261)\n",
      "RI  after:  (1394, 261)\n",
      "LA :  (1411, 261)\n",
      "LA  after:  (1411, 261)\n",
      "OR :  (2544, 261)\n",
      "OR  after:  (2544, 261)\n",
      "KS :  (1775, 261)\n",
      "KS  after:  (1775, 261)\n",
      "UT :  (2511, 261)\n",
      "UT  after:  (2511, 261)\n",
      "MO :  (2763, 261)\n",
      "MO  after:  (2763, 261)\n",
      "DC :  (1692, 261)\n",
      "DC  after:  (1692, 261)\n",
      "NV :  (1274, 261)\n",
      "NV  after:  (1274, 261)\n",
      "ND :  (1669, 261)\n",
      "ND  after:  (1669, 261)\n",
      "MS :  (1136, 261)\n",
      "MS  after:  (1136, 261)\n",
      "CT :  (1409, 261)\n",
      "CT  after:  (1409, 261)\n"
     ]
    }
   ],
   "source": [
    "for key in statesToData:\n",
    "    df = statesToData[key]\n",
    "    before = df.shape\n",
    "    print(key,\": \", before)\n",
    "    df.drop(df[df[\"TRIPPURP\"] == \"-9\"].index, inplace=True)\n",
    "    after = df.shape\n",
    "    print(key,\" after: \", after)\n",
    "    if (before != after): print(\"different\")"
   ]
  },
  {
   "cell_type": "markdown",
   "metadata": {},
   "source": [
    "## Converting TRPTRANS"
   ]
  },
  {
   "cell_type": "code",
   "execution_count": 6,
   "metadata": {},
   "outputs": [],
   "source": [
    "# 1 walk and bike\n",
    "# 2 car\n",
    "# 3 suv\n",
    "# 4 van and truck\n",
    "# 5 public trans\n",
    "# 6 other\n",
    "# Shenhao: You need to change the index to make the NN work. Try to start with zero. e.g. 0 other; the other five use the same indices."
   ]
  },
  {
   "cell_type": "code",
   "execution_count": 7,
   "metadata": {},
   "outputs": [],
   "source": [
    "for key in statesToData:\n",
    "    other = {7,8,9,12,13,17,18,19,20}\n",
    "    df = statesToData[key]\n",
    "    df[\"TRPTRANS\"].values[(df[\"TRPTRANS\"] == 1) | (df[\"TRPTRANS\"] == 2)] = 1\n",
    "    df[\"TRPTRANS\"].values[df[\"TRPTRANS\"] == 3] = 2\n",
    "    df[\"TRPTRANS\"].values[df[\"TRPTRANS\"] == 4] = 3\n",
    "    df[\"TRPTRANS\"].values[(df[\"TRPTRANS\"] == 5) | (df[\"TRPTRANS\"] == 6)] = 4\n",
    "    #check this\n",
    "    df[\"TRPTRANS\"].values[(df[\"TRPTRANS\"] == 10) | (df[\"TRPTRANS\"] == 11) | (df[\"TRPTRANS\"] == 14) | (df[\"TRPTRANS\"] == 15) | (df[\"TRPTRANS\"] == 16) | (df[\"TRPTRANS\"] == 12)] = 5\n",
    "    df[\"TRPTRANS\"].values[(df[\"TRPTRANS\"] == 7) | (df[\"TRPTRANS\"] == 8) | (df[\"TRPTRANS\"] == 9)\n",
    "                          | (df[\"TRPTRANS\"] == 13) | (df[\"TRPTRANS\"] == 17)| (df[\"TRPTRANS\"] == 18) | (df[\"TRPTRANS\"] == 19) \n",
    "                          | (df[\"TRPTRANS\"] == 20) | (df[\"TRPTRANS\"] == 97)] = 6"
   ]
  },
  {
   "cell_type": "code",
   "execution_count": 8,
   "metadata": {},
   "outputs": [
    {
     "name": "stdout",
     "output_type": "stream",
     "text": [
      "5\n",
      "{1, 2, 3, 4, 5, 6}\n"
     ]
    }
   ],
   "source": [
    "print(df[\"TRIPPURP\"].nunique())\n",
    "lol = set()\n",
    "for state in statesToData:\n",
    "    for elt in statesToData[state][\"TRPTRANS\"].values:\n",
    "        lol.add(elt)\n",
    "print(lol)"
   ]
  },
  {
   "cell_type": "code",
   "execution_count": 9,
   "metadata": {},
   "outputs": [],
   "source": [
    "for key in statesToData:\n",
    "    df = statesToData[key]\n",
    "    df[\"HHVEHCNT\"].values[df[\"HHVEHCNT\"] >= 3] = 3"
   ]
  },
  {
   "cell_type": "code",
   "execution_count": 10,
   "metadata": {},
   "outputs": [],
   "source": [
    "#{'HBO', 'HBSHOP', 'HBSOCREC', 'HBW', 'NHB'}\n",
    "#{0,1,2,3,4}\n",
    "for key in statesToData:\n",
    "    df = statesToData[key]\n",
    "    df[\"TRIPPURP\"].values[df[\"TRIPPURP\"] == \"HBO\"] = 0\n",
    "    df[\"TRIPPURP\"].values[df[\"TRIPPURP\"] == \"HBSHOP\"] = 1\n",
    "    df[\"TRIPPURP\"].values[df[\"TRIPPURP\"] == \"HBSOCREC\"] = 2\n",
    "    df[\"TRIPPURP\"].values[df[\"TRIPPURP\"] == \"HBW\"] = 3\n",
    "    df[\"TRIPPURP\"].values[df[\"TRIPPURP\"] == \"NHB\"] = 4"
   ]
  },
  {
   "cell_type": "code",
   "execution_count": 11,
   "metadata": {},
   "outputs": [],
   "source": [
    "with open('statesToData.pickle', 'wb') as handle:\n",
    "    pickle.dump(statesToData, handle, protocol=pickle.HIGHEST_PROTOCOL)"
   ]
  },
  {
   "cell_type": "code",
   "execution_count": null,
   "metadata": {},
   "outputs": [],
   "source": []
  },
  {
   "cell_type": "code",
   "execution_count": null,
   "metadata": {},
   "outputs": [],
   "source": []
  },
  {
   "cell_type": "code",
   "execution_count": null,
   "metadata": {},
   "outputs": [],
   "source": []
  }
 ],
 "metadata": {
  "kernelspec": {
   "display_name": "Python 3",
   "language": "python",
   "name": "python3"
  },
  "language_info": {
   "codemirror_mode": {
    "name": "ipython",
    "version": 3
   },
   "file_extension": ".py",
   "mimetype": "text/x-python",
   "name": "python",
   "nbconvert_exporter": "python",
   "pygments_lexer": "ipython3",
   "version": "3.7.4"
  }
 },
 "nbformat": 4,
 "nbformat_minor": 4
}
